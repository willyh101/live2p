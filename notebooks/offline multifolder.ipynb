{
 "cells": [
  {
   "cell_type": "code",
   "execution_count": 7,
   "id": "110b5516-0d55-4550-8bd5-5c6c4a754668",
   "metadata": {},
   "outputs": [],
   "source": [
    "import logging\n",
    "from glob import glob\n",
    "from pathlib import Path\n",
    "import scipy.io as sio\n",
    "\n",
    "from live2p.workers import RealTimeQueue\n",
    "from live2p.offline import run_plane_offline_multifolder\n",
    "from live2p.utils import tic, ptoc\n",
    "\n",
    "# logging setup\n",
    "# change for more or less information...\n",
    "caiman_loglevel = logging.INFO\n",
    "live2p_loglevel = logging.DEBUG\n",
    "\n",
    "# changes how logs/updates are printed\n",
    "logformat = '{relativeCreated:08.0f} - {levelname:8} - [{module}:{funcName}:{lineno}] - {message}'\n",
    "logging.basicConfig(level=caiman_loglevel, format=logformat, style='{') #sets caiman loglevel\n",
    "logger = logging.getLogger('live2p')\n",
    "logger.setLevel(live2p_loglevel) # sets live2p debug level\n",
    "\n",
    "%config InlineBackend.figure_format = 'retina'"
   ]
  },
  {
   "cell_type": "code",
   "execution_count": 6,
   "id": "8a236d13-6ea1-4f29-9f67-a84550a8e442",
   "metadata": {},
   "outputs": [
    {
     "data": {
      "text/plain": [
       "[True, True, True, True, True]"
      ]
     },
     "execution_count": 6,
     "metadata": {},
     "output_type": "execute_result"
    }
   ],
   "source": [
    "load_path = 'e:/outfiles'\n",
    "load_list = [\n",
    "    '210517_I147_outfile.mat',\n",
    "    '210518_I147_outfile.mat',\n",
    "    '220127_HB120_outfile.mat',\n",
    "    '220131_HB120_outfile.mat',\n",
    "    '220131_HB113_outfile.mat'\n",
    "]\n",
    "\n",
    "pths = [Path(load_path, i) for i in load_list]\n",
    "[p.exists() for p in pths]"
   ]
  },
  {
   "cell_type": "code",
   "execution_count": 9,
   "id": "8521873a-9701-43f2-9ae9-7b672b52e267",
   "metadata": {},
   "outputs": [
    {
     "data": {
      "text/plain": [
       "dict_keys(['__header__', '__version__', '__globals__', 'out', '__function_workspace__'])"
      ]
     },
     "execution_count": 9,
     "metadata": {},
     "output_type": "execute_result"
    }
   ],
   "source": [
    "mat = sio.loadmat(pths[0])\n",
    "mat.keys()"
   ]
  },
  {
   "cell_type": "code",
   "execution_count": 40,
   "id": "90e9bc49-b2b4-463e-a83e-e4b611389950",
   "metadata": {},
   "outputs": [
    {
     "data": {
      "text/plain": [
       "['1', '2', '3', '4', '5', '6', '7', '8', '9']"
      ]
     },
     "execution_count": 40,
     "metadata": {},
     "output_type": "execute_result"
    }
   ],
   "source": [
    "date = mat['out'][0]['info'][0]['date'][0][0][0]\n",
    "mouse = mat['out'][0]['info'][0]['mouse'][0][0][0]\n",
    "fpath = Path(mat['out'][0]['info'][0]['path'][0][0][0])\n",
    "epochs = fpath.stem.split('_')\n",
    "epochs"
   ]
  },
  {
   "cell_type": "code",
   "execution_count": null,
   "id": "b0a47258-54cc-4c1a-ac50-e16d435d97ee",
   "metadata": {},
   "outputs": [],
   "source": []
  },
  {
   "cell_type": "code",
   "execution_count": 2,
   "id": "1f43ad67-6305-49f6-a778-ad7b16285820",
   "metadata": {},
   "outputs": [],
   "source": [
    "# experiment info\n",
    "# put the makeMasks3D image mat file into the FIRST tiff folder\n",
    "\n",
    "# root folder where all the tiffs for an expt are located\n",
    "tiff_root = 'k:/test_data/caiman_scratch/test_data'\n",
    "\n",
    "# list epoch folder names\n",
    "epoch_list = ['1', '2']\n",
    "\n",
    "tiff_folders = ['/'.join([tiff_root, e]) for e in epoch_list]\n",
    "\n",
    "nplanes = 3 # for running multiple planes\n",
    "fr = 30\n",
    "\n",
    "# x_start and x_end need to be the same or larger than what is in mm3d\n",
    "x_start = 110\n",
    "x_end = 512-110\n",
    "# we can auto-determine them now...\n",
    "# but note: if the stim/vis artifact is in the cropped range, there will be problems\n",
    "# with motion correction and/or F extraction\n",
    "# mm3d_path = glob(tiff_folder + '/*.mat')[0]\n",
    "# x_start, x_end = get_true_mm3d_range(mm3d_path)\n",
    "# print(f'makeMasks3D range determine to be: {x_start} to {x_end} (pixels)')\n",
    "\n",
    "# pre-allocated frame buffer, per plane\n",
    "# make sure this is > than the number of frames in your experiment\n",
    "max_frames = 30000\n",
    "\n",
    "n_init = 500"
   ]
  },
  {
   "cell_type": "code",
   "execution_count": 3,
   "id": "540d176f-6f36-4626-865c-1c48089e3b03",
   "metadata": {},
   "outputs": [],
   "source": [
    "params = {\n",
    "    'fr': fr,\n",
    "    'p': 1,  # deconv 0 is off, 1 is slow, 2 is fast\n",
    "    'nb': 3,  # background compenents -> nb: 3 for complex\n",
    "    'decay_time': 0.1,  # sensor tau\n",
    "    'gSig': (5, 5),  # expected half size of neurons in pixels, very important for proper component detection\n",
    "    'init_method': 'seeded',\n",
    "    'motion_correct': True,\n",
    "    'expected_comps': 500,\n",
    "    'update_num_comps': False,\n",
    "    'update_freq': 100,\n",
    "    'niter_rig': 2,\n",
    "    'pw_rigid': False,\n",
    "    'dist_shape_update': False,\n",
    "    'normalize': True,\n",
    "    'sniper_mode': False,\n",
    "    'test_both': False,\n",
    "    'ring_CNN': False,\n",
    "    'simultaneously': True,\n",
    "    'use_cuda': False,\n",
    "}\n",
    "\n",
    "add_cells = {\n",
    "    'only_init':True,\n",
    "    'rf':None,\n",
    "    'update_num_comps':True\n",
    "}\n",
    "\n",
    "# uncomment and use if you want to add cells during the experiment\n",
    "# note: this may require re-running the CNMF fit to get trace data for detected cells before they were detected\n",
    "# params = {**params, **add_cells}"
   ]
  },
  {
   "cell_type": "code",
   "execution_count": 9,
   "id": "0a0dee79-4ead-4571-8cf4-b31ee81f872c",
   "metadata": {},
   "outputs": [
    {
     "name": "stdout",
     "output_type": "stream",
     "text": [
      "***** Starting Plane 0 *****\n",
      "getting files for initialization....\n"
     ]
    },
    {
     "name": "stderr",
     "output_type": "stream",
     "text": [
      "00122539 - DEBUG    - [workers:__init__:44] - Setting up params...\n",
      "00122541 - INFO     - [params:set:972] - Changing key decay_time in group data from 0.4 to 0.1\n",
      "00122542 - INFO     - [params:set:972] - Changing key p in group preprocess from 2 to 1\n",
      "00122542 - INFO     - [params:set:972] - Changing key nb in group init from 1 to 3\n",
      "00122543 - INFO     - [params:set:972] - Changing key gSig in group init from [5, 5] to (5, 5)\n",
      "00122544 - INFO     - [params:set:972] - Changing key nb in group spatial from 1 to 3\n",
      "00122544 - INFO     - [params:set:972] - Changing key p in group temporal from 2 to 1\n",
      "00122545 - INFO     - [params:set:972] - Changing key nb in group temporal from 1 to 3\n",
      "00122545 - INFO     - [params:set:972] - Changing key init_method in group online from bare to seeded\n",
      "00122546 - INFO     - [params:set:972] - Changing key update_num_comps in group online from True to False\n",
      "00122546 - INFO     - [params:set:972] - Changing key update_freq in group online from 200 to 100\n",
      "00122548 - INFO     - [params:set:972] - Changing key normalize in group online from False to True\n",
      "00122549 - INFO     - [params:set:972] - Changing key simultaneously in group online from False to True\n",
      "00122550 - INFO     - [params:set:972] - Changing key niter_rig in group motion from 1 to 2\n",
      "00122604 - DEBUG    - [workers:_setup_folders:113] - Set temp_path to e:\\caiman_scratch\\test_data\\1\\live2p\\tmp\n",
      "00122606 - DEBUG    - [workers:_setup_folders:116] - Set out_path to e:\\caiman_scratch\\test_data\\1\\live2p\\out\n",
      "00122608 - DEBUG    - [workers:_setup_folders:120] - Set working dir to e:\\caiman_scratch\\test_data\\1\\live2p\\tmp\n",
      "00122609 - DEBUG    - [workers:__init__:178] - Max frames set to 30000\n"
     ]
    },
    {
     "name": "stdout",
     "output_type": "stream",
     "text": [
      "starting initialization...\n"
     ]
    },
    {
     "name": "stderr",
     "output_type": "stream",
     "text": [
      "00122928 - INFO     - [workers:__init__:214] - Starting live2p worker.\n",
      "00122930 - INFO     - [workers:initialize_onacid:232] - Starting new OnACID initialization for live2p.\n",
      "00122931 - DEBUG    - [workers:make_init_mmap:237] - Making init memmap...\n"
     ]
    },
    {
     "name": "stdout",
     "output_type": "stream",
     "text": [
      "Plane 0: Found 99 sources from MM3D...\n"
     ]
    },
    {
     "name": "stderr",
     "output_type": "stream",
     "text": [
      "00124733 - INFO     - [params:set:972] - Changing key init_batch in group online from 200 to 500\n",
      "00125810 - DEBUG    - [workers:make_init_mmap:255] - Init mmap saved to initplane0_d1_512_d2_292_d3_1_order_C_frames_500_.mmap.\n",
      "00125846 - INFO     - [params:set:972] - Changing key fnames in group data from None to initplane0_d1_512_d2_292_d3_1_order_C_frames_500_.mmap\n",
      "00128174 - WARNING  - [movies:extract_shifts:371] - Movie average is negative. Removing 1st percentile.\n",
      "00128287 - WARNING  - [movies:extract_shifts:389] - Movie average is negative. Removing 1st percentile.\n",
      "00134248 - WARNING  - [movies:extract_shifts:371] - Movie average is negative. Removing 1st percentile.\n",
      "00140297 - WARNING  - [movies:extract_shifts:371] - Movie average is negative. Removing 1st percentile.\n",
      "00147397 - INFO     - [online_cnmf:initialize_online:967] - Frame size:(512, 292)\n",
      "C:\\Users\\Will\\miniconda3\\envs\\live2p\\lib\\site-packages\\sklearn\\decomposition\\_nmf.py:1641: ConvergenceWarning: Maximum number of iterations 10 reached. Increase it to improve convergence.\n",
      "  ConvergenceWarning,\n",
      "00153930 - INFO     - [params:set:972] - Changing key expected_comps in group online from 500 to 99\n",
      "00154503 - INFO     - [online_cnmf:_prepare_object:233] - Expecting 99 components\n",
      "00156265 - INFO     - [utils:recursively_save_dict_contents_to_group:471] - g is an object type\n",
      "00156273 - INFO     - [utils:recursively_save_dict_contents_to_group:481] - Key merged_ROIs is not saved.\n",
      "00156275 - INFO     - [utils:recursively_save_dict_contents_to_group:481] - Key coordinates is not saved.\n",
      "00156318 - INFO     - [utils:recursively_save_dict_contents_to_group:511] - Ab is sparse ****\n",
      "00156739 - INFO     - [utils:recursively_save_dict_contents_to_group:481] - Key groups is not saved.\n",
      "00156742 - INFO     - [utils:recursively_save_dict_contents_to_group:511] - A is sparse ****\n",
      "00156753 - INFO     - [utils:recursively_save_dict_contents_to_group:471] - g is an object type\n",
      "00156760 - INFO     - [utils:recursively_save_dict_contents_to_group:481] - Key merged_ROIs is not saved.\n",
      "00156762 - INFO     - [utils:recursively_save_dict_contents_to_group:481] - Key coordinates is not saved.\n",
      "00156800 - INFO     - [utils:recursively_save_dict_contents_to_group:481] - Key groups is not saved.\n",
      "00156921 - INFO     - [utils:recursively_save_dict_contents_to_group:481] - Key ind_A is not saved.\n",
      "00156923 - INFO     - [utils:recursively_save_dict_contents_to_group:481] - Key tf_in is not saved.\n",
      "00156923 - INFO     - [utils:recursively_save_dict_contents_to_group:481] - Key tf_out is not saved.\n",
      "00156925 - INFO     - [utils:recursively_save_dict_contents_to_group:481] - Key loaded_model is not saved.\n",
      "00156939 - INFO     - [workers:save_acid:469] - Saved OnACID hdf5 to e:\\caiman_scratch\\test_data\\1\\live2p\\tmp\\realtime_init_plane_0.hdf5\n",
      "00156941 - DEBUG    - [workers:_initialize_new:286] - OnACID initialized.\n",
      "00156942 - INFO     - [utils:wrapper_timer:222] - <live2p.workers._initialize_new> done in 31.097s\n"
     ]
    },
    {
     "name": "stdout",
     "output_type": "stream",
     "text": [
      "starting queue...\n",
      "starting worker...\n"
     ]
    },
    {
     "name": "stderr",
     "output_type": "stream",
     "text": [
      "00169238 - INFO     - [online_cnmf:fit_next:769] - Updating Shapes\n",
      "00173555 - INFO     - [online_cnmf:fit_next:769] - Updating Shapes\n",
      "00177857 - INFO     - [online_cnmf:fit_next:769] - Updating Shapes\n",
      "00182148 - INFO     - [online_cnmf:fit_next:769] - Updating Shapes\n",
      "00186474 - INFO     - [online_cnmf:fit_next:769] - Updating Shapes\n",
      "00186555 - INFO     - [workers:process_frame_from_queue:358] - Total of 1000 frames processed. (Queue 0)\n",
      "00186556 - INFO     - [workers:process_frame_from_queue:362] - Average processing time: 16 ms. (59.53 Hz) (Queue 0)\n",
      "00191002 - INFO     - [online_cnmf:fit_next:769] - Updating Shapes\n",
      "00195568 - INFO     - [online_cnmf:fit_next:769] - Updating Shapes\n",
      "00200124 - INFO     - [online_cnmf:fit_next:769] - Updating Shapes\n",
      "00204734 - INFO     - [online_cnmf:fit_next:769] - Updating Shapes\n",
      "00209321 - INFO     - [online_cnmf:fit_next:769] - Updating Shapes\n",
      "00209402 - INFO     - [workers:process_frame_from_queue:358] - Total of 1500 frames processed. (Queue 0)\n",
      "00209404 - INFO     - [workers:process_frame_from_queue:362] - Average processing time: 16 ms. (59.0 Hz) (Queue 0)\n",
      "00213888 - INFO     - [online_cnmf:fit_next:769] - Updating Shapes\n",
      "00218460 - INFO     - [online_cnmf:fit_next:769] - Updating Shapes\n",
      "00223032 - INFO     - [online_cnmf:fit_next:769] - Updating Shapes\n",
      "00227648 - INFO     - [online_cnmf:fit_next:769] - Updating Shapes\n",
      "00232268 - INFO     - [online_cnmf:fit_next:769] - Updating Shapes\n",
      "00232349 - INFO     - [workers:process_frame_from_queue:358] - Total of 2000 frames processed. (Queue 0)\n",
      "00232351 - INFO     - [workers:process_frame_from_queue:362] - Average processing time: 16 ms. (59.03 Hz) (Queue 0)\n",
      "00236853 - INFO     - [online_cnmf:fit_next:769] - Updating Shapes\n",
      "00241411 - INFO     - [online_cnmf:fit_next:769] - Updating Shapes\n",
      "00245977 - INFO     - [online_cnmf:fit_next:769] - Updating Shapes\n",
      "00250528 - INFO     - [online_cnmf:fit_next:769] - Updating Shapes\n",
      "00255066 - INFO     - [online_cnmf:fit_next:769] - Updating Shapes\n",
      "00255148 - INFO     - [workers:process_frame_from_queue:358] - Total of 2500 frames processed. (Queue 0)\n",
      "00255150 - INFO     - [workers:process_frame_from_queue:362] - Average processing time: 16 ms. (59.22 Hz) (Queue 0)\n",
      "00259615 - INFO     - [online_cnmf:fit_next:769] - Updating Shapes\n",
      "00264161 - INFO     - [online_cnmf:fit_next:769] - Updating Shapes\n",
      "00268714 - INFO     - [online_cnmf:fit_next:769] - Updating Shapes\n",
      "00273252 - INFO     - [online_cnmf:fit_next:769] - Updating Shapes\n",
      "00277808 - INFO     - [online_cnmf:fit_next:769] - Updating Shapes\n",
      "00277891 - INFO     - [workers:process_frame_from_queue:358] - Total of 3000 frames processed. (Queue 0)\n",
      "00277893 - INFO     - [workers:process_frame_from_queue:362] - Average processing time: 16 ms. (59.28 Hz) (Queue 0)\n",
      "00282358 - INFO     - [online_cnmf:fit_next:769] - Updating Shapes\n",
      "00286927 - INFO     - [online_cnmf:fit_next:769] - Updating Shapes\n",
      "00291505 - INFO     - [online_cnmf:fit_next:769] - Updating Shapes\n",
      "00296037 - INFO     - [online_cnmf:fit_next:769] - Updating Shapes\n",
      "00300603 - INFO     - [online_cnmf:fit_next:769] - Updating Shapes\n",
      "00300701 - INFO     - [workers:process_frame_from_queue:358] - Total of 3500 frames processed. (Queue 0)\n",
      "00300702 - INFO     - [workers:process_frame_from_queue:362] - Average processing time: 16 ms. (59.28 Hz) (Queue 0)\n",
      "00305183 - INFO     - [online_cnmf:fit_next:769] - Updating Shapes\n",
      "00309811 - INFO     - [online_cnmf:fit_next:769] - Updating Shapes\n",
      "00314403 - INFO     - [online_cnmf:fit_next:769] - Updating Shapes\n",
      "00318983 - INFO     - [online_cnmf:fit_next:769] - Updating Shapes\n",
      "00323589 - INFO     - [online_cnmf:fit_next:769] - Updating Shapes\n",
      "00323670 - INFO     - [workers:process_frame_from_queue:358] - Total of 4000 frames processed. (Queue 0)\n",
      "00323672 - INFO     - [workers:process_frame_from_queue:362] - Average processing time: 16 ms. (59.29 Hz) (Queue 0)\n",
      "00328153 - INFO     - [online_cnmf:fit_next:769] - Updating Shapes\n",
      "00332733 - INFO     - [online_cnmf:fit_next:769] - Updating Shapes\n",
      "00337295 - INFO     - [online_cnmf:fit_next:769] - Updating Shapes\n",
      "00341850 - INFO     - [online_cnmf:fit_next:769] - Updating Shapes\n",
      "00346397 - INFO     - [online_cnmf:fit_next:769] - Updating Shapes\n",
      "00346480 - INFO     - [workers:process_frame_from_queue:358] - Total of 4500 frames processed. (Queue 0)\n",
      "00346481 - INFO     - [workers:process_frame_from_queue:362] - Average processing time: 16 ms. (59.25 Hz) (Queue 0)\n",
      "00350939 - INFO     - [online_cnmf:fit_next:769] - Updating Shapes\n",
      "00355510 - INFO     - [online_cnmf:fit_next:769] - Updating Shapes\n",
      "00360083 - INFO     - [online_cnmf:fit_next:769] - Updating Shapes\n",
      "00364635 - INFO     - [online_cnmf:fit_next:769] - Updating Shapes\n",
      "00369200 - INFO     - [online_cnmf:fit_next:769] - Updating Shapes\n",
      "00369280 - INFO     - [workers:process_frame_from_queue:358] - Total of 5000 frames processed. (Queue 0)\n",
      "00369282 - INFO     - [workers:process_frame_from_queue:362] - Average processing time: 16 ms. (59.16 Hz) (Queue 0)\n",
      "00373750 - INFO     - [online_cnmf:fit_next:769] - Updating Shapes\n",
      "00376675 - INFO     - [workers:process_frame_from_queue:379] - Stopping live2p....\n",
      "00376677 - DEBUG    - [workers:process_frame_from_queue:382] - Processing done at: 13:17:37\n",
      "00376678 - INFO     - [workers:process_frame_from_queue:383] - Getting final results...\n",
      "00376964 - INFO     - [utils:recursively_save_dict_contents_to_group:471] - g is an object type\n",
      "00376973 - INFO     - [utils:recursively_save_dict_contents_to_group:481] - Key merged_ROIs is not saved.\n",
      "00376974 - INFO     - [utils:recursively_save_dict_contents_to_group:481] - Key coordinates is not saved.\n",
      "00377023 - INFO     - [utils:recursively_save_dict_contents_to_group:511] - Ab is sparse ****\n",
      "00377431 - INFO     - [utils:recursively_save_dict_contents_to_group:481] - Key groups is not saved.\n",
      "00377437 - INFO     - [utils:recursively_save_dict_contents_to_group:511] - A is sparse ****\n",
      "00377453 - INFO     - [utils:recursively_save_dict_contents_to_group:471] - g is an object type\n",
      "00377461 - INFO     - [utils:recursively_save_dict_contents_to_group:481] - Key merged_ROIs is not saved.\n",
      "00377462 - INFO     - [utils:recursively_save_dict_contents_to_group:481] - Key coordinates is not saved.\n",
      "00377491 - INFO     - [utils:recursively_save_dict_contents_to_group:481] - Key groups is not saved.\n",
      "00377602 - INFO     - [utils:recursively_save_dict_contents_to_group:481] - Key ind_A is not saved.\n",
      "00377604 - INFO     - [utils:recursively_save_dict_contents_to_group:481] - Key tf_in is not saved.\n",
      "00377605 - INFO     - [utils:recursively_save_dict_contents_to_group:481] - Key tf_out is not saved.\n",
      "00377606 - INFO     - [utils:recursively_save_dict_contents_to_group:481] - Key loaded_model is not saved.\n",
      "00377614 - INFO     - [workers:save_acid:469] - Saved OnACID hdf5 to e:\\caiman_scratch\\test_data\\1\\live2p\\out\\realtime_results_plane_0.hdf5\n",
      "00404521 - INFO     - [workers:save_json:458] - Saved JSON to e:\\caiman_scratch\\test_data\\1\\live2p\\out\\realtime_plane_0.json\n",
      "00406719 - INFO     - [cluster:stop_server:301] - Stopping cluster...\n"
     ]
    },
    {
     "name": "stdout",
     "output_type": "stream",
     "text": [
      "done!\n"
     ]
    },
    {
     "name": "stderr",
     "output_type": "stream",
     "text": [
      "00407649 - INFO     - [cluster:stop_server:344] - No cluster to stop...\n",
      "00407650 - INFO     - [cluster:stop_server:358] - stop_cluster(): done\n",
      "00407652 - DEBUG    - [workers:_stop_cluster:96] - Cluster stopped.\n",
      "00407654 - DEBUG    - [workers:__del__:74] - Worker object destroyed on delete.\n"
     ]
    },
    {
     "name": "stdout",
     "output_type": "stream",
     "text": [
      "***** Starting Plane 1 *****\n",
      "getting files for initialization....\n"
     ]
    },
    {
     "name": "stderr",
     "output_type": "stream",
     "text": [
      "00408658 - DEBUG    - [workers:__init__:44] - Setting up params...\n",
      "00408660 - INFO     - [params:set:972] - Changing key decay_time in group data from 0.4 to 0.1\n",
      "00408661 - INFO     - [params:set:972] - Changing key p in group preprocess from 2 to 1\n",
      "00408661 - INFO     - [params:set:972] - Changing key nb in group init from 1 to 3\n",
      "00408662 - INFO     - [params:set:972] - Changing key gSig in group init from [5, 5] to (5, 5)\n",
      "00408663 - INFO     - [params:set:972] - Changing key nb in group spatial from 1 to 3\n",
      "00408663 - INFO     - [params:set:972] - Changing key p in group temporal from 2 to 1\n",
      "00408664 - INFO     - [params:set:972] - Changing key nb in group temporal from 1 to 3\n",
      "00408665 - INFO     - [params:set:972] - Changing key init_method in group online from bare to seeded\n",
      "00408665 - INFO     - [params:set:972] - Changing key update_num_comps in group online from True to False\n",
      "00408666 - INFO     - [params:set:972] - Changing key update_freq in group online from 200 to 100\n",
      "00408667 - INFO     - [params:set:972] - Changing key normalize in group online from False to True\n",
      "00408668 - INFO     - [params:set:972] - Changing key simultaneously in group online from False to True\n",
      "00408668 - INFO     - [params:set:972] - Changing key niter_rig in group motion from 1 to 2\n",
      "00408707 - DEBUG    - [workers:_setup_folders:103] - Found existing live2p folder.\n",
      "00408716 - DEBUG    - [workers:_setup_folders:113] - Set temp_path to e:\\caiman_scratch\\test_data\\1\\live2p_002\\tmp\n",
      "00408717 - DEBUG    - [workers:_setup_folders:116] - Set out_path to e:\\caiman_scratch\\test_data\\1\\live2p_002\\out\n",
      "00408718 - DEBUG    - [workers:_setup_folders:120] - Set working dir to e:\\caiman_scratch\\test_data\\1\\live2p_002\\tmp\n",
      "00408719 - DEBUG    - [workers:__init__:178] - Max frames set to 30000\n"
     ]
    },
    {
     "name": "stdout",
     "output_type": "stream",
     "text": [
      "starting initialization...\n"
     ]
    },
    {
     "name": "stderr",
     "output_type": "stream",
     "text": [
      "00409059 - INFO     - [workers:__init__:214] - Starting live2p worker.\n",
      "00409060 - INFO     - [workers:initialize_onacid:232] - Starting new OnACID initialization for live2p.\n",
      "00409061 - DEBUG    - [workers:make_init_mmap:237] - Making init memmap...\n"
     ]
    },
    {
     "name": "stdout",
     "output_type": "stream",
     "text": [
      "Plane 1: Found 111 sources from MM3D...\n"
     ]
    },
    {
     "name": "stderr",
     "output_type": "stream",
     "text": [
      "00410904 - INFO     - [params:set:972] - Changing key init_batch in group online from 200 to 500\n",
      "00411977 - DEBUG    - [workers:make_init_mmap:255] - Init mmap saved to initplane1_d1_512_d2_292_d3_1_order_C_frames_500_.mmap.\n",
      "00412013 - INFO     - [params:set:972] - Changing key fnames in group data from None to initplane1_d1_512_d2_292_d3_1_order_C_frames_500_.mmap\n",
      "00414132 - WARNING  - [movies:extract_shifts:371] - Movie average is negative. Removing 1st percentile.\n",
      "00414240 - WARNING  - [movies:extract_shifts:389] - Movie average is negative. Removing 1st percentile.\n",
      "00420168 - WARNING  - [movies:extract_shifts:371] - Movie average is negative. Removing 1st percentile.\n",
      "00420263 - WARNING  - [movies:extract_shifts:389] - Movie average is negative. Removing 1st percentile.\n",
      "00425988 - WARNING  - [movies:extract_shifts:371] - Movie average is negative. Removing 1st percentile.\n",
      "00426077 - WARNING  - [movies:extract_shifts:389] - Movie average is negative. Removing 1st percentile.\n",
      "00433274 - INFO     - [online_cnmf:initialize_online:967] - Frame size:(512, 292)\n",
      "C:\\Users\\Will\\miniconda3\\envs\\live2p\\lib\\site-packages\\sklearn\\decomposition\\_nmf.py:1641: ConvergenceWarning: Maximum number of iterations 10 reached. Increase it to improve convergence.\n",
      "  ConvergenceWarning,\n",
      "00440350 - INFO     - [params:set:972] - Changing key expected_comps in group online from 500 to 111\n",
      "00440975 - INFO     - [online_cnmf:_prepare_object:233] - Expecting 111 components\n",
      "00442745 - INFO     - [utils:recursively_save_dict_contents_to_group:471] - g is an object type\n",
      "00442748 - INFO     - [utils:recursively_save_dict_contents_to_group:481] - Key merged_ROIs is not saved.\n",
      "00442750 - INFO     - [utils:recursively_save_dict_contents_to_group:481] - Key coordinates is not saved.\n",
      "00442793 - INFO     - [utils:recursively_save_dict_contents_to_group:511] - Ab is sparse ****\n",
      "00443269 - INFO     - [utils:recursively_save_dict_contents_to_group:481] - Key groups is not saved.\n",
      "00443272 - INFO     - [utils:recursively_save_dict_contents_to_group:511] - A is sparse ****\n",
      "00443281 - INFO     - [utils:recursively_save_dict_contents_to_group:471] - g is an object type\n",
      "00443284 - INFO     - [utils:recursively_save_dict_contents_to_group:481] - Key merged_ROIs is not saved.\n",
      "00443285 - INFO     - [utils:recursively_save_dict_contents_to_group:481] - Key coordinates is not saved.\n",
      "00443310 - INFO     - [utils:recursively_save_dict_contents_to_group:481] - Key groups is not saved.\n",
      "00443406 - INFO     - [utils:recursively_save_dict_contents_to_group:481] - Key ind_A is not saved.\n",
      "00443408 - INFO     - [utils:recursively_save_dict_contents_to_group:481] - Key tf_in is not saved.\n",
      "00443409 - INFO     - [utils:recursively_save_dict_contents_to_group:481] - Key tf_out is not saved.\n",
      "00443410 - INFO     - [utils:recursively_save_dict_contents_to_group:481] - Key loaded_model is not saved.\n",
      "00443416 - INFO     - [workers:save_acid:469] - Saved OnACID hdf5 to e:\\caiman_scratch\\test_data\\1\\live2p_002\\tmp\\realtime_init_plane_1.hdf5\n",
      "00443417 - DEBUG    - [workers:_initialize_new:286] - OnACID initialized.\n",
      "00443418 - INFO     - [utils:wrapper_timer:222] - <live2p.workers._initialize_new> done in 31.406s\n"
     ]
    },
    {
     "name": "stdout",
     "output_type": "stream",
     "text": [
      "starting queue...\n",
      "starting worker...\n"
     ]
    },
    {
     "name": "stderr",
     "output_type": "stream",
     "text": [
      "00456392 - INFO     - [online_cnmf:fit_next:769] - Updating Shapes\n",
      "00460769 - INFO     - [online_cnmf:fit_next:769] - Updating Shapes\n",
      "00465078 - INFO     - [online_cnmf:fit_next:769] - Updating Shapes\n",
      "00469327 - INFO     - [online_cnmf:fit_next:769] - Updating Shapes\n",
      "00473645 - INFO     - [online_cnmf:fit_next:769] - Updating Shapes\n",
      "00473729 - INFO     - [workers:process_frame_from_queue:358] - Total of 1000 frames processed. (Queue 1)\n",
      "00473730 - INFO     - [workers:process_frame_from_queue:362] - Average processing time: 17 ms. (58.12 Hz) (Queue 1)\n",
      "00478004 - INFO     - [online_cnmf:fit_next:769] - Updating Shapes\n",
      "00482310 - INFO     - [online_cnmf:fit_next:769] - Updating Shapes\n",
      "00486603 - INFO     - [online_cnmf:fit_next:769] - Updating Shapes\n",
      "00490934 - INFO     - [online_cnmf:fit_next:769] - Updating Shapes\n",
      "00495281 - INFO     - [online_cnmf:fit_next:769] - Updating Shapes\n",
      "00495366 - INFO     - [workers:process_frame_from_queue:358] - Total of 1500 frames processed. (Queue 1)\n",
      "00495367 - INFO     - [workers:process_frame_from_queue:362] - Average processing time: 17 ms. (57.61 Hz) (Queue 1)\n",
      "00499565 - INFO     - [online_cnmf:fit_next:769] - Updating Shapes\n",
      "00503873 - INFO     - [online_cnmf:fit_next:769] - Updating Shapes\n",
      "00508176 - INFO     - [online_cnmf:fit_next:769] - Updating Shapes\n",
      "00512466 - INFO     - [online_cnmf:fit_next:769] - Updating Shapes\n",
      "00516764 - INFO     - [online_cnmf:fit_next:769] - Updating Shapes\n",
      "00516849 - INFO     - [workers:process_frame_from_queue:358] - Total of 2000 frames processed. (Queue 1)\n",
      "00516850 - INFO     - [workers:process_frame_from_queue:362] - Average processing time: 17 ms. (57.5 Hz) (Queue 1)\n",
      "00521010 - INFO     - [online_cnmf:fit_next:769] - Updating Shapes\n",
      "00525318 - INFO     - [online_cnmf:fit_next:769] - Updating Shapes\n",
      "00529612 - INFO     - [online_cnmf:fit_next:769] - Updating Shapes\n",
      "00533918 - INFO     - [online_cnmf:fit_next:769] - Updating Shapes\n",
      "00538195 - INFO     - [online_cnmf:fit_next:769] - Updating Shapes\n",
      "00538283 - INFO     - [workers:process_frame_from_queue:358] - Total of 2500 frames processed. (Queue 1)\n",
      "00538285 - INFO     - [workers:process_frame_from_queue:362] - Average processing time: 17 ms. (57.75 Hz) (Queue 1)\n",
      "00542487 - INFO     - [online_cnmf:fit_next:769] - Updating Shapes\n",
      "00546816 - INFO     - [online_cnmf:fit_next:769] - Updating Shapes\n",
      "00551074 - INFO     - [online_cnmf:fit_next:769] - Updating Shapes\n",
      "00555354 - INFO     - [online_cnmf:fit_next:769] - Updating Shapes\n",
      "00559619 - INFO     - [online_cnmf:fit_next:769] - Updating Shapes\n",
      "00559732 - INFO     - [workers:process_frame_from_queue:358] - Total of 3000 frames processed. (Queue 1)\n",
      "00559733 - INFO     - [workers:process_frame_from_queue:362] - Average processing time: 17 ms. (57.36 Hz) (Queue 1)\n",
      "00563883 - INFO     - [online_cnmf:fit_next:769] - Updating Shapes\n",
      "00568116 - INFO     - [online_cnmf:fit_next:769] - Updating Shapes\n",
      "00572421 - INFO     - [online_cnmf:fit_next:769] - Updating Shapes\n",
      "00576702 - INFO     - [online_cnmf:fit_next:769] - Updating Shapes\n",
      "00580964 - INFO     - [online_cnmf:fit_next:769] - Updating Shapes\n",
      "00581050 - INFO     - [workers:process_frame_from_queue:358] - Total of 3500 frames processed. (Queue 1)\n",
      "00581051 - INFO     - [workers:process_frame_from_queue:362] - Average processing time: 17 ms. (57.2 Hz) (Queue 1)\n",
      "00585244 - INFO     - [online_cnmf:fit_next:769] - Updating Shapes\n",
      "00589527 - INFO     - [online_cnmf:fit_next:769] - Updating Shapes\n",
      "00593847 - INFO     - [online_cnmf:fit_next:769] - Updating Shapes\n",
      "00598094 - INFO     - [online_cnmf:fit_next:769] - Updating Shapes\n",
      "00602356 - INFO     - [online_cnmf:fit_next:769] - Updating Shapes\n",
      "00602442 - INFO     - [workers:process_frame_from_queue:358] - Total of 4000 frames processed. (Queue 1)\n",
      "00602444 - INFO     - [workers:process_frame_from_queue:362] - Average processing time: 17 ms. (57.28 Hz) (Queue 1)\n",
      "00606600 - INFO     - [online_cnmf:fit_next:769] - Updating Shapes\n",
      "00610900 - INFO     - [online_cnmf:fit_next:769] - Updating Shapes\n",
      "00615161 - INFO     - [online_cnmf:fit_next:769] - Updating Shapes\n",
      "00619428 - INFO     - [online_cnmf:fit_next:769] - Updating Shapes\n",
      "00623669 - INFO     - [online_cnmf:fit_next:769] - Updating Shapes\n",
      "00623758 - INFO     - [workers:process_frame_from_queue:358] - Total of 4500 frames processed. (Queue 1)\n",
      "00623760 - INFO     - [workers:process_frame_from_queue:362] - Average processing time: 17 ms. (57.36 Hz) (Queue 1)\n",
      "00627940 - INFO     - [online_cnmf:fit_next:769] - Updating Shapes\n",
      "00632207 - INFO     - [online_cnmf:fit_next:769] - Updating Shapes\n",
      "00636469 - INFO     - [online_cnmf:fit_next:769] - Updating Shapes\n",
      "00640786 - INFO     - [online_cnmf:fit_next:769] - Updating Shapes\n",
      "00645097 - INFO     - [online_cnmf:fit_next:769] - Updating Shapes\n",
      "00645183 - INFO     - [workers:process_frame_from_queue:358] - Total of 5000 frames processed. (Queue 1)\n",
      "00645185 - INFO     - [workers:process_frame_from_queue:362] - Average processing time: 17 ms. (57.43 Hz) (Queue 1)\n",
      "00649460 - INFO     - [online_cnmf:fit_next:769] - Updating Shapes\n",
      "00652234 - INFO     - [workers:process_frame_from_queue:379] - Stopping live2p....\n",
      "00652235 - DEBUG    - [workers:process_frame_from_queue:382] - Processing done at: 13:22:13\n",
      "00652237 - INFO     - [workers:process_frame_from_queue:383] - Getting final results...\n",
      "00652535 - INFO     - [utils:recursively_save_dict_contents_to_group:471] - g is an object type\n",
      "00652543 - INFO     - [utils:recursively_save_dict_contents_to_group:481] - Key merged_ROIs is not saved.\n",
      "00652544 - INFO     - [utils:recursively_save_dict_contents_to_group:481] - Key coordinates is not saved.\n",
      "00652591 - INFO     - [utils:recursively_save_dict_contents_to_group:511] - Ab is sparse ****\n",
      "00652983 - INFO     - [utils:recursively_save_dict_contents_to_group:481] - Key groups is not saved.\n",
      "00652989 - INFO     - [utils:recursively_save_dict_contents_to_group:511] - A is sparse ****\n",
      "00653002 - INFO     - [utils:recursively_save_dict_contents_to_group:471] - g is an object type\n",
      "00653010 - INFO     - [utils:recursively_save_dict_contents_to_group:481] - Key merged_ROIs is not saved.\n",
      "00653011 - INFO     - [utils:recursively_save_dict_contents_to_group:481] - Key coordinates is not saved.\n",
      "00653044 - INFO     - [utils:recursively_save_dict_contents_to_group:481] - Key groups is not saved.\n",
      "00653167 - INFO     - [utils:recursively_save_dict_contents_to_group:481] - Key ind_A is not saved.\n",
      "00653169 - INFO     - [utils:recursively_save_dict_contents_to_group:481] - Key tf_in is not saved.\n",
      "00653170 - INFO     - [utils:recursively_save_dict_contents_to_group:481] - Key tf_out is not saved.\n",
      "00653171 - INFO     - [utils:recursively_save_dict_contents_to_group:481] - Key loaded_model is not saved.\n",
      "00653178 - INFO     - [workers:save_acid:469] - Saved OnACID hdf5 to e:\\caiman_scratch\\test_data\\1\\live2p_002\\out\\realtime_results_plane_1.hdf5\n",
      "00684255 - INFO     - [workers:save_json:458] - Saved JSON to e:\\caiman_scratch\\test_data\\1\\live2p_002\\out\\realtime_plane_1.json\n",
      "00686784 - INFO     - [cluster:stop_server:301] - Stopping cluster...\n"
     ]
    },
    {
     "name": "stdout",
     "output_type": "stream",
     "text": [
      "done!\n"
     ]
    },
    {
     "name": "stderr",
     "output_type": "stream",
     "text": [
      "00687876 - INFO     - [cluster:stop_server:344] - No cluster to stop...\n",
      "00687878 - INFO     - [cluster:stop_server:358] - stop_cluster(): done\n",
      "00687880 - DEBUG    - [workers:_stop_cluster:96] - Cluster stopped.\n",
      "00687881 - DEBUG    - [workers:__del__:74] - Worker object destroyed on delete.\n"
     ]
    },
    {
     "name": "stdout",
     "output_type": "stream",
     "text": [
      "***** Starting Plane 2 *****\n",
      "getting files for initialization....\n"
     ]
    },
    {
     "name": "stderr",
     "output_type": "stream",
     "text": [
      "00688856 - DEBUG    - [workers:__init__:44] - Setting up params...\n",
      "00688858 - INFO     - [params:set:972] - Changing key decay_time in group data from 0.4 to 0.1\n",
      "00688859 - INFO     - [params:set:972] - Changing key p in group preprocess from 2 to 1\n",
      "00688859 - INFO     - [params:set:972] - Changing key nb in group init from 1 to 3\n",
      "00688860 - INFO     - [params:set:972] - Changing key gSig in group init from [5, 5] to (5, 5)\n",
      "00688861 - INFO     - [params:set:972] - Changing key nb in group spatial from 1 to 3\n",
      "00688862 - INFO     - [params:set:972] - Changing key p in group temporal from 2 to 1\n",
      "00688863 - INFO     - [params:set:972] - Changing key nb in group temporal from 1 to 3\n",
      "00688864 - INFO     - [params:set:972] - Changing key init_method in group online from bare to seeded\n",
      "00688864 - INFO     - [params:set:972] - Changing key update_num_comps in group online from True to False\n",
      "00688865 - INFO     - [params:set:972] - Changing key update_freq in group online from 200 to 100\n",
      "00688866 - INFO     - [params:set:972] - Changing key normalize in group online from False to True\n",
      "00688867 - INFO     - [params:set:972] - Changing key simultaneously in group online from False to True\n",
      "00688868 - INFO     - [params:set:972] - Changing key niter_rig in group motion from 1 to 2\n",
      "00688902 - DEBUG    - [workers:_setup_folders:103] - Found existing live2p folder.\n",
      "00688904 - DEBUG    - [workers:_setup_folders:113] - Set temp_path to e:\\caiman_scratch\\test_data\\1\\live2p_003\\tmp\n",
      "00688912 - DEBUG    - [workers:_setup_folders:116] - Set out_path to e:\\caiman_scratch\\test_data\\1\\live2p_003\\out\n",
      "00688913 - DEBUG    - [workers:_setup_folders:120] - Set working dir to e:\\caiman_scratch\\test_data\\1\\live2p_003\\tmp\n",
      "00688915 - DEBUG    - [workers:__init__:178] - Max frames set to 30000\n"
     ]
    },
    {
     "name": "stdout",
     "output_type": "stream",
     "text": [
      "starting initialization...\n"
     ]
    },
    {
     "name": "stderr",
     "output_type": "stream",
     "text": [
      "00689252 - INFO     - [workers:__init__:214] - Starting live2p worker.\n",
      "00689254 - INFO     - [workers:initialize_onacid:232] - Starting new OnACID initialization for live2p.\n",
      "00689255 - DEBUG    - [workers:make_init_mmap:237] - Making init memmap...\n"
     ]
    },
    {
     "name": "stdout",
     "output_type": "stream",
     "text": [
      "Plane 2: Found 104 sources from MM3D...\n"
     ]
    },
    {
     "name": "stderr",
     "output_type": "stream",
     "text": [
      "00691074 - INFO     - [params:set:972] - Changing key init_batch in group online from 200 to 500\n",
      "00692071 - DEBUG    - [workers:make_init_mmap:255] - Init mmap saved to initplane2_d1_512_d2_292_d3_1_order_C_frames_500_.mmap.\n",
      "00692107 - INFO     - [params:set:972] - Changing key fnames in group data from None to initplane2_d1_512_d2_292_d3_1_order_C_frames_500_.mmap\n",
      "00694472 - WARNING  - [movies:extract_shifts:371] - Movie average is negative. Removing 1st percentile.\n",
      "00694558 - WARNING  - [movies:extract_shifts:389] - Movie average is negative. Removing 1st percentile.\n",
      "00700660 - WARNING  - [movies:extract_shifts:371] - Movie average is negative. Removing 1st percentile.\n",
      "00700747 - WARNING  - [movies:extract_shifts:389] - Movie average is negative. Removing 1st percentile.\n",
      "00706796 - WARNING  - [movies:extract_shifts:371] - Movie average is negative. Removing 1st percentile.\n",
      "00706879 - WARNING  - [movies:extract_shifts:389] - Movie average is negative. Removing 1st percentile.\n",
      "00713893 - INFO     - [online_cnmf:initialize_online:967] - Frame size:(512, 292)\n",
      "C:\\Users\\Will\\miniconda3\\envs\\live2p\\lib\\site-packages\\sklearn\\decomposition\\_nmf.py:1641: ConvergenceWarning: Maximum number of iterations 10 reached. Increase it to improve convergence.\n",
      "  ConvergenceWarning,\n",
      "00720795 - INFO     - [params:set:972] - Changing key expected_comps in group online from 500 to 104\n",
      "00721413 - INFO     - [online_cnmf:_prepare_object:233] - Expecting 104 components\n",
      "00723122 - INFO     - [utils:recursively_save_dict_contents_to_group:471] - g is an object type\n",
      "00723131 - INFO     - [utils:recursively_save_dict_contents_to_group:481] - Key merged_ROIs is not saved.\n",
      "00723132 - INFO     - [utils:recursively_save_dict_contents_to_group:481] - Key coordinates is not saved.\n",
      "00723186 - INFO     - [utils:recursively_save_dict_contents_to_group:511] - Ab is sparse ****\n",
      "00723589 - INFO     - [utils:recursively_save_dict_contents_to_group:481] - Key groups is not saved.\n",
      "00723592 - INFO     - [utils:recursively_save_dict_contents_to_group:511] - A is sparse ****\n",
      "00723602 - INFO     - [utils:recursively_save_dict_contents_to_group:471] - g is an object type\n",
      "00723611 - INFO     - [utils:recursively_save_dict_contents_to_group:481] - Key merged_ROIs is not saved.\n",
      "00723613 - INFO     - [utils:recursively_save_dict_contents_to_group:481] - Key coordinates is not saved.\n",
      "00723640 - INFO     - [utils:recursively_save_dict_contents_to_group:481] - Key groups is not saved.\n",
      "00723743 - INFO     - [utils:recursively_save_dict_contents_to_group:481] - Key ind_A is not saved.\n",
      "00723745 - INFO     - [utils:recursively_save_dict_contents_to_group:481] - Key tf_in is not saved.\n",
      "00723745 - INFO     - [utils:recursively_save_dict_contents_to_group:481] - Key tf_out is not saved.\n",
      "00723746 - INFO     - [utils:recursively_save_dict_contents_to_group:481] - Key loaded_model is not saved.\n",
      "00723750 - INFO     - [workers:save_acid:469] - Saved OnACID hdf5 to e:\\caiman_scratch\\test_data\\1\\live2p_003\\tmp\\realtime_init_plane_2.hdf5\n",
      "00723751 - DEBUG    - [workers:_initialize_new:286] - OnACID initialized.\n",
      "00723752 - INFO     - [utils:wrapper_timer:222] - <live2p.workers._initialize_new> done in 31.645s\n"
     ]
    },
    {
     "name": "stdout",
     "output_type": "stream",
     "text": [
      "starting queue...\n",
      "starting worker...\n"
     ]
    },
    {
     "name": "stderr",
     "output_type": "stream",
     "text": [
      "00735730 - INFO     - [online_cnmf:fit_next:769] - Updating Shapes\n",
      "00740027 - INFO     - [online_cnmf:fit_next:769] - Updating Shapes\n",
      "00744333 - INFO     - [online_cnmf:fit_next:769] - Updating Shapes\n",
      "00748633 - INFO     - [online_cnmf:fit_next:769] - Updating Shapes\n",
      "00752975 - INFO     - [online_cnmf:fit_next:769] - Updating Shapes\n",
      "00753058 - INFO     - [workers:process_frame_from_queue:358] - Total of 1000 frames processed. (Queue 2)\n",
      "00753059 - INFO     - [workers:process_frame_from_queue:362] - Average processing time: 16 ms. (59.18 Hz) (Queue 2)\n",
      "00757276 - INFO     - [online_cnmf:fit_next:769] - Updating Shapes\n",
      "00761626 - INFO     - [online_cnmf:fit_next:769] - Updating Shapes\n",
      "00765935 - INFO     - [online_cnmf:fit_next:769] - Updating Shapes\n",
      "00770233 - INFO     - [online_cnmf:fit_next:769] - Updating Shapes\n",
      "00774508 - INFO     - [online_cnmf:fit_next:769] - Updating Shapes\n",
      "00774591 - INFO     - [workers:process_frame_from_queue:358] - Total of 1500 frames processed. (Queue 2)\n",
      "00774592 - INFO     - [workers:process_frame_from_queue:362] - Average processing time: 16 ms. (59.37 Hz) (Queue 2)\n",
      "00778800 - INFO     - [online_cnmf:fit_next:769] - Updating Shapes\n",
      "00783107 - INFO     - [online_cnmf:fit_next:769] - Updating Shapes\n",
      "00787429 - INFO     - [online_cnmf:fit_next:769] - Updating Shapes\n",
      "00791769 - INFO     - [online_cnmf:fit_next:769] - Updating Shapes\n",
      "00796072 - INFO     - [online_cnmf:fit_next:769] - Updating Shapes\n",
      "00796155 - INFO     - [workers:process_frame_from_queue:358] - Total of 2000 frames processed. (Queue 2)\n",
      "00796157 - INFO     - [workers:process_frame_from_queue:362] - Average processing time: 16 ms. (59.38 Hz) (Queue 2)\n",
      "00800370 - INFO     - [online_cnmf:fit_next:769] - Updating Shapes\n",
      "00804687 - INFO     - [online_cnmf:fit_next:769] - Updating Shapes\n",
      "00808955 - INFO     - [online_cnmf:fit_next:769] - Updating Shapes\n",
      "00813265 - INFO     - [online_cnmf:fit_next:769] - Updating Shapes\n",
      "00817592 - INFO     - [online_cnmf:fit_next:769] - Updating Shapes\n",
      "00817674 - INFO     - [workers:process_frame_from_queue:358] - Total of 2500 frames processed. (Queue 2)\n",
      "00817676 - INFO     - [workers:process_frame_from_queue:362] - Average processing time: 16 ms. (59.44 Hz) (Queue 2)\n",
      "00821964 - INFO     - [online_cnmf:fit_next:769] - Updating Shapes\n",
      "00826257 - INFO     - [online_cnmf:fit_next:769] - Updating Shapes\n",
      "00830538 - INFO     - [online_cnmf:fit_next:769] - Updating Shapes\n",
      "00834854 - INFO     - [online_cnmf:fit_next:769] - Updating Shapes\n",
      "00839155 - INFO     - [online_cnmf:fit_next:769] - Updating Shapes\n",
      "00839240 - INFO     - [workers:process_frame_from_queue:358] - Total of 3000 frames processed. (Queue 2)\n",
      "00839241 - INFO     - [workers:process_frame_from_queue:362] - Average processing time: 16 ms. (59.33 Hz) (Queue 2)\n",
      "00843437 - INFO     - [online_cnmf:fit_next:769] - Updating Shapes\n",
      "00847761 - INFO     - [online_cnmf:fit_next:769] - Updating Shapes\n",
      "00852113 - INFO     - [online_cnmf:fit_next:769] - Updating Shapes\n",
      "00856469 - INFO     - [online_cnmf:fit_next:769] - Updating Shapes\n",
      "00860763 - INFO     - [online_cnmf:fit_next:769] - Updating Shapes\n",
      "00860850 - INFO     - [workers:process_frame_from_queue:358] - Total of 3500 frames processed. (Queue 2)\n",
      "00860852 - INFO     - [workers:process_frame_from_queue:362] - Average processing time: 16 ms. (59.26 Hz) (Queue 2)\n",
      "00865119 - INFO     - [online_cnmf:fit_next:769] - Updating Shapes\n",
      "00869451 - INFO     - [online_cnmf:fit_next:769] - Updating Shapes\n",
      "00873753 - INFO     - [online_cnmf:fit_next:769] - Updating Shapes\n",
      "00878065 - INFO     - [online_cnmf:fit_next:769] - Updating Shapes\n",
      "00882385 - INFO     - [online_cnmf:fit_next:769] - Updating Shapes\n",
      "00882468 - INFO     - [workers:process_frame_from_queue:358] - Total of 4000 frames processed. (Queue 2)\n",
      "00882469 - INFO     - [workers:process_frame_from_queue:362] - Average processing time: 16 ms. (59.31 Hz) (Queue 2)\n",
      "00886742 - INFO     - [online_cnmf:fit_next:769] - Updating Shapes\n",
      "00891049 - INFO     - [online_cnmf:fit_next:769] - Updating Shapes\n",
      "00895339 - INFO     - [online_cnmf:fit_next:769] - Updating Shapes\n",
      "00899656 - INFO     - [online_cnmf:fit_next:769] - Updating Shapes\n",
      "00904001 - INFO     - [online_cnmf:fit_next:769] - Updating Shapes\n",
      "00904088 - INFO     - [workers:process_frame_from_queue:358] - Total of 4500 frames processed. (Queue 2)\n",
      "00904091 - INFO     - [workers:process_frame_from_queue:362] - Average processing time: 16 ms. (59.29 Hz) (Queue 2)\n",
      "00908340 - INFO     - [online_cnmf:fit_next:769] - Updating Shapes\n",
      "00912616 - INFO     - [online_cnmf:fit_next:769] - Updating Shapes\n",
      "00916911 - INFO     - [online_cnmf:fit_next:769] - Updating Shapes\n",
      "00921162 - INFO     - [online_cnmf:fit_next:769] - Updating Shapes\n",
      "00925493 - INFO     - [online_cnmf:fit_next:769] - Updating Shapes\n",
      "00925579 - INFO     - [workers:process_frame_from_queue:358] - Total of 5000 frames processed. (Queue 2)\n",
      "00925581 - INFO     - [workers:process_frame_from_queue:362] - Average processing time: 16 ms. (59.35 Hz) (Queue 2)\n",
      "00929823 - INFO     - [online_cnmf:fit_next:769] - Updating Shapes\n",
      "00932636 - INFO     - [workers:process_frame_from_queue:379] - Stopping live2p....\n",
      "00932637 - DEBUG    - [workers:process_frame_from_queue:382] - Processing done at: 13:26:53\n",
      "00932638 - INFO     - [workers:process_frame_from_queue:383] - Getting final results...\n",
      "00932951 - INFO     - [utils:recursively_save_dict_contents_to_group:471] - g is an object type\n",
      "00932961 - INFO     - [utils:recursively_save_dict_contents_to_group:481] - Key merged_ROIs is not saved.\n",
      "00932962 - INFO     - [utils:recursively_save_dict_contents_to_group:481] - Key coordinates is not saved.\n",
      "00933002 - INFO     - [utils:recursively_save_dict_contents_to_group:511] - Ab is sparse ****\n",
      "00933435 - INFO     - [utils:recursively_save_dict_contents_to_group:481] - Key groups is not saved.\n",
      "00933440 - INFO     - [utils:recursively_save_dict_contents_to_group:511] - A is sparse ****\n",
      "00933456 - INFO     - [utils:recursively_save_dict_contents_to_group:471] - g is an object type\n",
      "00933463 - INFO     - [utils:recursively_save_dict_contents_to_group:481] - Key merged_ROIs is not saved.\n",
      "00933464 - INFO     - [utils:recursively_save_dict_contents_to_group:481] - Key coordinates is not saved.\n",
      "00933517 - INFO     - [utils:recursively_save_dict_contents_to_group:481] - Key groups is not saved.\n",
      "00933637 - INFO     - [utils:recursively_save_dict_contents_to_group:481] - Key ind_A is not saved.\n",
      "00933639 - INFO     - [utils:recursively_save_dict_contents_to_group:481] - Key tf_in is not saved.\n",
      "00933640 - INFO     - [utils:recursively_save_dict_contents_to_group:481] - Key tf_out is not saved.\n",
      "00933641 - INFO     - [utils:recursively_save_dict_contents_to_group:481] - Key loaded_model is not saved.\n",
      "00933649 - INFO     - [workers:save_acid:469] - Saved OnACID hdf5 to e:\\caiman_scratch\\test_data\\1\\live2p_003\\out\\realtime_results_plane_2.hdf5\n",
      "00962424 - INFO     - [workers:save_json:458] - Saved JSON to e:\\caiman_scratch\\test_data\\1\\live2p_003\\out\\realtime_plane_2.json\n",
      "00965060 - INFO     - [cluster:stop_server:301] - Stopping cluster...\n"
     ]
    },
    {
     "name": "stdout",
     "output_type": "stream",
     "text": [
      "done!\n"
     ]
    },
    {
     "name": "stderr",
     "output_type": "stream",
     "text": [
      "00966009 - INFO     - [cluster:stop_server:344] - No cluster to stop...\n",
      "00966011 - INFO     - [cluster:stop_server:358] - stop_cluster(): done\n",
      "00966012 - DEBUG    - [workers:_stop_cluster:96] - Cluster stopped.\n",
      "00966013 - DEBUG    - [workers:__del__:74] - Worker object destroyed on delete.\n"
     ]
    },
    {
     "name": "stdout",
     "output_type": "stream",
     "text": [
      "All done!\n",
      "Whole thing took 845.5544 s\n"
     ]
    },
    {
     "data": {
      "text/plain": [
       "845.5544021999999"
      ]
     },
     "execution_count": 9,
     "metadata": {},
     "output_type": "execute_result"
    }
   ],
   "source": [
    "# run all planes offline\n",
    "# as run_plane_offline is already multi-process, so the simplest way to do this is to run planes sequentially\n",
    "\n",
    "t = tic()\n",
    "data = []\n",
    "for p in range(nplanes):\n",
    "    print(f'***** Starting Plane {p} *****')\n",
    "    result = run_plane_offline_multifolder(p, tiff_folders, params, x_start, x_end, n_init, max_frames)\n",
    "    data.append(result)\n",
    "print('All done!')\n",
    "ptoc(t, 'Whole thing took')"
   ]
  },
  {
   "cell_type": "code",
   "execution_count": null,
   "id": "d8ba341b-ba77-4a2e-acb8-81abc62d82fa",
   "metadata": {},
   "outputs": [],
   "source": []
  }
 ],
 "metadata": {
  "kernelspec": {
   "display_name": "Python 3 (ipykernel)",
   "language": "python",
   "name": "python3"
  },
  "language_info": {
   "codemirror_mode": {
    "name": "ipython",
    "version": 3
   },
   "file_extension": ".py",
   "mimetype": "text/x-python",
   "name": "python",
   "nbconvert_exporter": "python",
   "pygments_lexer": "ipython3",
   "version": "3.7.10"
  }
 },
 "nbformat": 4,
 "nbformat_minor": 5
}
