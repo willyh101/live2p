{
 "cells": [
  {
   "cell_type": "code",
   "execution_count": 2,
   "id": "c716cd9f-475b-462f-b07e-62fb50a53c29",
   "metadata": {},
   "outputs": [],
   "source": [
    "import live2p\n",
    "from pathlib import Path\n",
    "import matplotlib.pyplot as plt\n",
    "import numpy as np\n",
    "import json\n",
    "import scipy.stats as stats\n",
    "import sklearn\n",
    "import h5py"
   ]
  },
  {
   "cell_type": "code",
   "execution_count": 4,
   "id": "c1bba7c1-2374-4b0a-9152-9375e8901119",
   "metadata": {},
   "outputs": [
    {
     "name": "stderr",
     "output_type": "stream",
     "text": [
      "C:\\Users\\FrankenSI\\.conda\\envs\\live2p\\lib\\site-packages\\ipykernel_launcher.py:1: H5pyDeprecationWarning: The default file mode will change to 'r' (read-only) in h5py 3.0. To suppress this warning, pass the mode you need to h5py.File(), or set the global default h5.get_config().default_file_mode, or set the environment variable H5PY_DEFAULT_READONLY=1. Available modes are: 'r', 'r+', 'w', 'w-'/'x', 'a'. See the docs for details.\n",
      "  \"\"\"Entry point for launching an IPython kernel.\n",
      "C:\\Users\\FrankenSI\\.conda\\envs\\live2p\\lib\\site-packages\\ipykernel_launcher.py:2: H5pyDeprecationWarning: The default file mode will change to 'r' (read-only) in h5py 3.0. To suppress this warning, pass the mode you need to h5py.File(), or set the global default h5.get_config().default_file_mode, or set the environment variable H5PY_DEFAULT_READONLY=1. Available modes are: 'r', 'r+', 'w', 'w-'/'x', 'a'. See the docs for details.\n",
      "  \n",
      "C:\\Users\\FrankenSI\\.conda\\envs\\live2p\\lib\\site-packages\\ipykernel_launcher.py:3: H5pyDeprecationWarning: The default file mode will change to 'r' (read-only) in h5py 3.0. To suppress this warning, pass the mode you need to h5py.File(), or set the global default h5.get_config().default_file_mode, or set the environment variable H5PY_DEFAULT_READONLY=1. Available modes are: 'r', 'r+', 'w', 'w-'/'x', 'a'. See the docs for details.\n",
      "  This is separate from the ipykernel package so we can avoid doing imports until\n"
     ]
    }
   ],
   "source": [
    "f0 = h5py.File('d:/hayley/hb119_1/220131/live2p_003/out/realtime_results_plane_0.hdf5')\n",
    "f1 = h5py.File('d:/hayley/hb119_1/220131/live2p_004/out/realtime_results_plane_1.hdf5')\n",
    "f2 = h5py.File('d:/hayley/hb119_1/220131/live2p_005/out/realtime_results_plane_2.hdf5')"
   ]
  },
  {
   "cell_type": "code",
   "execution_count": 10,
   "id": "ddd91f1b-b0a0-4957-9cf1-05404a858275",
   "metadata": {},
   "outputs": [
    {
     "data": {
      "text/plain": [
       "(24, 128000)"
      ]
     },
     "execution_count": 10,
     "metadata": {},
     "output_type": "execute_result"
    }
   ],
   "source": [
    "f0['estimates']['C_on'].shape"
   ]
  },
  {
   "cell_type": "code",
   "execution_count": 11,
   "id": "5ab32c35-ba9c-48ad-b3c3-c3243d09323f",
   "metadata": {},
   "outputs": [
    {
     "data": {
      "text/plain": [
       "(41, 128000)"
      ]
     },
     "execution_count": 11,
     "metadata": {},
     "output_type": "execute_result"
    }
   ],
   "source": [
    "f1['estimates']['C_on'].shape"
   ]
  },
  {
   "cell_type": "code",
   "execution_count": 12,
   "id": "b09c219d-778d-41cd-aef3-5af794f8cccb",
   "metadata": {},
   "outputs": [
    {
     "data": {
      "text/plain": [
       "(61, 128000)"
      ]
     },
     "execution_count": 12,
     "metadata": {},
     "output_type": "execute_result"
    }
   ],
   "source": [
    "f2['estimates']['C_on'].shape"
   ]
  },
  {
   "cell_type": "code",
   "execution_count": 18,
   "id": "007fe742-9954-4b55-829a-9ad1e0dfdbf6",
   "metadata": {},
   "outputs": [
    {
     "data": {
      "text/plain": [
       "24"
      ]
     },
     "execution_count": 18,
     "metadata": {},
     "output_type": "execute_result"
    }
   ],
   "source": [
    "f0['M'][()]"
   ]
  },
  {
   "cell_type": "code",
   "execution_count": 21,
   "id": "2c162a1c-b6fa-47fd-af42-a4e26df0968b",
   "metadata": {},
   "outputs": [
    {
     "name": "stdout",
     "output_type": "stream",
     "text": [
      "(8181, 2) detected post-hoc by shifts\n",
      "(8181, 2) detected post-hoc by shifts\n",
      "(8057, 2) detected post-hoc by shifts\n"
     ]
    }
   ],
   "source": [
    "for f in [f0,f1,f2]:\n",
    "    num_frames = f['estimates/shifts'].shape\n",
    "    print(f'{num_frames} detected post-hoc by shifts')"
   ]
  },
  {
   "cell_type": "code",
   "execution_count": 22,
   "id": "cce2b9d9-bf48-46b7-81b3-17bbc8f60d53",
   "metadata": {},
   "outputs": [
    {
     "data": {
      "text/plain": [
       "124"
      ]
     },
     "execution_count": 22,
     "metadata": {},
     "output_type": "execute_result"
    }
   ],
   "source": [
    "181-57"
   ]
  },
  {
   "cell_type": "code",
   "execution_count": 23,
   "id": "bef6c5d4-fcd9-45a0-87e7-7c90311b931b",
   "metadata": {},
   "outputs": [],
   "source": [
    "a = [1, 2, 3, 4, 5]"
   ]
  },
  {
   "cell_type": "code",
   "execution_count": 25,
   "id": "ed0aaef3-a658-450d-986e-22cfdeaf279c",
   "metadata": {},
   "outputs": [],
   "source": [
    "s = slice(0,None,2)"
   ]
  },
  {
   "cell_type": "code",
   "execution_count": 26,
   "id": "563b3402-3107-44e0-bb14-bd61f0d6931e",
   "metadata": {},
   "outputs": [
    {
     "data": {
      "text/plain": [
       "[1, 3, 5]"
      ]
     },
     "execution_count": 26,
     "metadata": {},
     "output_type": "execute_result"
    }
   ],
   "source": [
    "a[s]"
   ]
  },
  {
   "cell_type": "code",
   "execution_count": null,
   "id": "74806cd3-d1bf-4955-ad96-0b9632ee73b7",
   "metadata": {},
   "outputs": [],
   "source": []
  }
 ],
 "metadata": {
  "kernelspec": {
   "display_name": "Python 3",
   "language": "python",
   "name": "python3"
  },
  "language_info": {
   "codemirror_mode": {
    "name": "ipython",
    "version": 3
   },
   "file_extension": ".py",
   "mimetype": "text/x-python",
   "name": "python",
   "nbconvert_exporter": "python",
   "pygments_lexer": "ipython3",
   "version": "3.7.10"
  }
 },
 "nbformat": 4,
 "nbformat_minor": 5
}
