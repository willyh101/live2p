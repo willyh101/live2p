{
 "cells": [
  {
   "cell_type": "code",
   "execution_count": 3,
   "id": "tested-panic",
   "metadata": {},
   "outputs": [],
   "source": [
    "# from multiprocessing import Process, Queue\n",
    "from queue import Queue\n",
    "import concurrent.futures\n",
    "import logging\n",
    "from glob import glob\n",
    "from live2p.workers import RealTimeQueue\n",
    "from live2p.utils import slice_movie\n",
    "from ScanImageTiffReader import ScanImageTiffReader\n",
    "import time\n",
    "\n",
    "\n",
    "LOGFORMAT = '{relativeCreated:08.0f} - {levelname:8} - [{module}:{funcName}:{lineno}] - {message}'\n",
    "# logging.basicConfig(level=logging.ERROR, format=LOGFORMAT, filename=LOGFILE, style='{')\n",
    "logging.basicConfig(level=logging.ERROR, format=LOGFORMAT, style='{')\n",
    "logger = logging.getLogger('live2p')\n",
    "logger.setLevel(logging.DEBUG)"
   ]
  },
  {
   "cell_type": "code",
   "execution_count": 4,
   "id": "thick-tiger",
   "metadata": {},
   "outputs": [],
   "source": [
    "init_folder = 'e:/caiman_scratch/ori_20210209_seed'\n",
    "data_folder = 'e:/caiman_scratch/ori_20210209'\n",
    "Ain_path =  glob(data_folder+'/*.mat')[0]\n",
    "nchannels = 2\n",
    "nplanes = 3\n",
    "xslice = slice(110,512-110)"
   ]
  },
  {
   "cell_type": "code",
   "execution_count": 5,
   "id": "elegant-diabetes",
   "metadata": {},
   "outputs": [],
   "source": [
    "test_params_undseeded = {\n",
    "    'fr': 6.36,\n",
    "    'p': 1,  # deconv 0 is off, 1 is slow, 2 is fast\n",
    "    'nb': 2,  # background compenents -> nb: 3 for complex\n",
    "    'decay_time': 1.0,  # sensor tau\n",
    "    'gSig': (7, 7),  # expected half size of neurons in pixels, very important for proper component detection\n",
    "    'init_method': 'bare',\n",
    "    'motion_correct': True,\n",
    "    'expected_comps': 750,\n",
    "    'update_num_comps': True,\n",
    "    'update_freq': 100,\n",
    "    'niter_rig': 2,\n",
    "    'pw_rigid': False,\n",
    "    'dist_shape_update': False,\n",
    "    'normalize': True,\n",
    "    'sniper_mode': False,\n",
    "    'test_both': False,\n",
    "    'ring_CNN': False,\n",
    "    'simultaneously': True,\n",
    "    'use_cuda': True,\n",
    "}\n",
    "\n",
    "test_params_seeded = {\n",
    "    'fr': 6.36,\n",
    "    'p': 1,  # deconv 0 is off, 1 is slow, 2 is fast\n",
    "    'nb': 2,  # background compenents -> nb: 3 for complex\n",
    "    'decay_time': 1.0,  # sensor tau\n",
    "    'gSig': (7, 7),  # expected half size of neurons in pixels, very important for proper component detection\n",
    "    'init_method': 'seeded',\n",
    "    'motion_correct': True,\n",
    "    'expected_comps': 300,\n",
    "    'update_num_comps': False,\n",
    "    'update_freq': 100,\n",
    "    'niter_rig': 2,\n",
    "    'pw_rigid': False,\n",
    "    'dist_shape_update': False,\n",
    "    'normalize': True,\n",
    "    'sniper_mode': False,\n",
    "    'test_both': False,\n",
    "    'ring_CNN': False,\n",
    "    'simultaneously': True,\n",
    "    'use_cuda': True,\n",
    "}\n",
    "\n",
    "test_params_seeded_add = {\n",
    "    'fr': 6.36,\n",
    "    'p': 1,  # deconv 0 is off, 1 is slow, 2 is fast\n",
    "    'nb': 2,  # background compenents -> nb: 3 for complex\n",
    "    'decay_time': 1.0,  # sensor tau\n",
    "    'gSig': (7, 7),  # expected half size of neurons in pixels, very important for proper component detection\n",
    "    'init_method': 'seeded',\n",
    "    'motion_correct': True,\n",
    "    'expected_comps': 600,\n",
    "    'update_num_comps': True,\n",
    "    'update_freq': 100,\n",
    "    'niter_rig': 2,\n",
    "    'pw_rigid': False,\n",
    "    'dist_shape_update': False,\n",
    "    'normalize': True,\n",
    "    'sniper_mode': False,\n",
    "    'test_both': False,\n",
    "    'ring_CNN': False,\n",
    "    'simultaneously': True,\n",
    "    'use_cuda': True,\n",
    "}\n",
    "\n",
    "params = test_params_seeded"
   ]
  },
  {
   "cell_type": "code",
   "execution_count": 6,
   "id": "catholic-sugar",
   "metadata": {},
   "outputs": [
    {
     "name": "stderr",
     "output_type": "stream",
     "text": [
      "01692166 - DEBUG    - [workers:__init__:45] - Setting up params...\n",
      "01692203 - DEBUG    - [workers:_setup_folders:106] - Set temp_path to e:\\caiman_scratch\\ori_20210209_seed\\live2p\\tmp\n",
      "01692205 - DEBUG    - [workers:_setup_folders:109] - Set out_path to e:\\caiman_scratch\\ori_20210209_seed\\live2p\\out\n",
      "01692207 - DEBUG    - [workers:_setup_folders:113] - Set working dir to e:\\caiman_scratch\\ori_20210209_seed\\live2p\\tmp\n"
     ]
    },
    {
     "name": "stdout",
     "output_type": "stream",
     "text": [
      "ERROR! Session/line number was not unique in database. History logging moved to new session 82\n"
     ]
    },
    {
     "name": "stderr",
     "output_type": "stream",
     "text": [
      "01692493 - WARNING  - [workers:__init__:188] - Using a previous initialization is not yet supported. Setting use_prev_init = False.\n",
      "01692494 - INFO     - [workers:__init__:204] - Starting live2p worker.\n",
      "01692496 - INFO     - [workers:__init__:213] - Starting new OnACID initialization for live2p.\n",
      "01692501 - DEBUG    - [workers:make_init_mmap:219] - Making init memmap...\n"
     ]
    },
    {
     "name": "stdout",
     "output_type": "stream",
     "text": [
      "Plane 0: Found 99 sources from MM3D...\n"
     ]
    },
    {
     "name": "stderr",
     "output_type": "stream",
     "text": [
      "01695035 - DEBUG    - [workers:make_init_mmap:236] - Init mmap saved to initplane0_d1_512_d2_292_d3_1_order_C_frames_475_.mmap.\n",
      "C:\\Users\\Will\\miniconda3\\envs\\live2p-gpu\\lib\\site-packages\\sklearn\\decomposition\\_nmf.py:1091: ConvergenceWarning: Maximum number of iterations 10 reached. Increase it to improve convergence.\n",
      "  \" improve convergence.\" % max_iter, ConvergenceWarning)\n",
      "01720863 - INFO     - [workers:save_acid:435] - Saved OnACID hdf5 to e:\\caiman_scratch\\live2p_init\\realtime_init_plane_0.hdf5\n",
      "01720868 - DEBUG    - [workers:initialize:267] - OnACID initialized.\n",
      "01720879 - INFO     - [wrappers:wrapper_timer:16] - <live2p.workers.initialize> done in 25.814s\n",
      "01720882 - DEBUG    - [workers:__init__:45] - Setting up params...\n",
      "01720935 - DEBUG    - [workers:_setup_folders:106] - Set temp_path to e:\\caiman_scratch\\ori_20210209_seed\\live2p\\tmp\n",
      "01720936 - DEBUG    - [workers:_setup_folders:109] - Set out_path to e:\\caiman_scratch\\ori_20210209_seed\\live2p\\out\n",
      "01720938 - DEBUG    - [workers:_setup_folders:113] - Set working dir to e:\\caiman_scratch\\ori_20210209_seed\\live2p\\tmp\n",
      "01721226 - WARNING  - [workers:__init__:188] - Using a previous initialization is not yet supported. Setting use_prev_init = False.\n",
      "01721227 - INFO     - [workers:__init__:204] - Starting live2p worker.\n",
      "01721229 - INFO     - [workers:__init__:213] - Starting new OnACID initialization for live2p.\n",
      "01721230 - DEBUG    - [workers:make_init_mmap:219] - Making init memmap...\n"
     ]
    },
    {
     "name": "stdout",
     "output_type": "stream",
     "text": [
      "Plane 1: Found 111 sources from MM3D...\n"
     ]
    },
    {
     "name": "stderr",
     "output_type": "stream",
     "text": [
      "01723734 - DEBUG    - [workers:make_init_mmap:236] - Init mmap saved to initplane1_d1_512_d2_292_d3_1_order_C_frames_475_.mmap.\n",
      "C:\\Users\\Will\\miniconda3\\envs\\live2p-gpu\\lib\\site-packages\\sklearn\\decomposition\\_nmf.py:1091: ConvergenceWarning: Maximum number of iterations 10 reached. Increase it to improve convergence.\n",
      "  \" improve convergence.\" % max_iter, ConvergenceWarning)\n",
      "01749440 - INFO     - [workers:save_acid:435] - Saved OnACID hdf5 to e:\\caiman_scratch\\live2p_init\\realtime_init_plane_1.hdf5\n",
      "01749441 - DEBUG    - [workers:initialize:267] - OnACID initialized.\n",
      "01749442 - INFO     - [wrappers:wrapper_timer:16] - <live2p.workers.initialize> done in 25.680s\n",
      "01749444 - DEBUG    - [workers:__init__:45] - Setting up params...\n",
      "01749502 - DEBUG    - [workers:_setup_folders:106] - Set temp_path to e:\\caiman_scratch\\ori_20210209_seed\\live2p\\tmp\n",
      "01749505 - DEBUG    - [workers:_setup_folders:109] - Set out_path to e:\\caiman_scratch\\ori_20210209_seed\\live2p\\out\n",
      "01749507 - DEBUG    - [workers:_setup_folders:113] - Set working dir to e:\\caiman_scratch\\ori_20210209_seed\\live2p\\tmp\n",
      "01749787 - WARNING  - [workers:__init__:188] - Using a previous initialization is not yet supported. Setting use_prev_init = False.\n",
      "01749788 - INFO     - [workers:__init__:204] - Starting live2p worker.\n",
      "01749790 - INFO     - [workers:__init__:213] - Starting new OnACID initialization for live2p.\n",
      "01749791 - DEBUG    - [workers:make_init_mmap:219] - Making init memmap...\n"
     ]
    },
    {
     "name": "stdout",
     "output_type": "stream",
     "text": [
      "Plane 2: Found 104 sources from MM3D...\n"
     ]
    },
    {
     "name": "stderr",
     "output_type": "stream",
     "text": [
      "01752307 - DEBUG    - [workers:make_init_mmap:236] - Init mmap saved to initplane2_d1_512_d2_292_d3_1_order_C_frames_475_.mmap.\n",
      "C:\\Users\\Will\\miniconda3\\envs\\live2p-gpu\\lib\\site-packages\\sklearn\\decomposition\\_nmf.py:1091: ConvergenceWarning: Maximum number of iterations 10 reached. Increase it to improve convergence.\n",
      "  \" improve convergence.\" % max_iter, ConvergenceWarning)\n",
      "01778856 - INFO     - [workers:save_acid:435] - Saved OnACID hdf5 to e:\\caiman_scratch\\live2p_init\\realtime_init_plane_2.hdf5\n",
      "01778857 - DEBUG    - [workers:initialize:267] - OnACID initialized.\n",
      "01778858 - INFO     - [wrappers:wrapper_timer:16] - <live2p.workers.initialize> done in 26.521s\n"
     ]
    }
   ],
   "source": [
    "qs = []\n",
    "workers = []\n",
    "for p,q in enumerate(range(nplanes)):\n",
    "    qs.append(Queue())\n",
    "    init_files = glob(init_folder + '/*.tif')\n",
    "    w = RealTimeQueue(init_files, p, nchannels, nplanes, params, qs[p], Ain_path = Ain_path, xslice=xslice)\n",
    "    workers.append(w)"
   ]
  },
  {
   "cell_type": "code",
   "execution_count": null,
   "id": "compressed-pointer",
   "metadata": {},
   "outputs": [],
   "source": [
    "tasks = []\n",
    "for w in workers:\n",
    "    t = executor.submit(w.process_frame_from_queue)\n",
    "        \n",
    "# results = concurrent.futures.wait(tasks)"
   ]
  },
  {
   "cell_type": "code",
   "execution_count": 7,
   "id": "vietnamese-northern",
   "metadata": {},
   "outputs": [],
   "source": [
    "def get_last_tiff_and_length(tiff):\n",
    "    with ScanImageTiffReader(str(tiff)) as reader:\n",
    "        data = reader.data()\n",
    "        length = data.shape[0]\n",
    "    return length\n",
    "\n",
    "def add_to_queue(tiff, qs):\n",
    "    for p in range(nplanes):\n",
    "        mov = slice_movie(tiff, x_slice=None, y_slice=None,\n",
    "                          t_slice=slice(p*nchannels, -1, nchannels*nplanes))\n",
    "        for f in mov:\n",
    "            qs.put(f.squeeze())\n",
    "    time.sleep(3)"
   ]
  },
  {
   "cell_type": "code",
   "execution_count": null,
   "id": "rotary-gambling",
   "metadata": {},
   "outputs": [],
   "source": [
    "all_tiffs = glob(data_folder + '/*.tif')\n",
    "pause_time = 3\n",
    "lengths = []\n",
    "\n",
    "for t in all_tiffs:\n",
    "    add_to_queue(t)\n",
    "    lengths.append(get_list_tiff_and_length(t))\n",
    "    \n",
    "results = concurrent.futures.wait(tasks)"
   ]
  }
 ],
 "metadata": {
  "kernelspec": {
   "display_name": "Python 3",
   "language": "python",
   "name": "python3"
  },
  "language_info": {
   "codemirror_mode": {
    "name": "ipython",
    "version": 3
   },
   "file_extension": ".py",
   "mimetype": "text/x-python",
   "name": "python",
   "nbconvert_exporter": "python",
   "pygments_lexer": "ipython3",
   "version": "3.7.10"
  }
 },
 "nbformat": 4,
 "nbformat_minor": 5
}
